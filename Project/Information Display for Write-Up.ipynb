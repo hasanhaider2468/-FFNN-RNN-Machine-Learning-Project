{
 "cells": [
  {
   "cell_type": "code",
   "execution_count": 8,
   "id": "ae08a915",
   "metadata": {},
   "outputs": [
    {
     "name": "stdout",
     "output_type": "stream",
     "text": [
      "                                                   text  stars\n",
      "0     The hotel I was staying in recommended this pl...    1.0\n",
      "1     The worst customer service~Spend 2 hours & 35 ...    1.0\n",
      "2     I have an appointment and I see people coming ...    1.0\n",
      "3     I usually really like Milestones but this one ...    1.0\n",
      "4     First off I would like to say that my first ma...    1.0\n",
      "...                                                 ...    ...\n",
      "7995  Don't know what the fuss is about. I had the c...    3.0\n",
      "7996  I can't even remember the name of my salad, ga...    3.0\n",
      "7997  Smoked Meat Sandwich was moist but a little sa...    3.0\n",
      "7998  The food here is basically terrible.  Greasy a...    3.0\n",
      "7999  Have been going here for years! I feel like it...    3.0\n",
      "\n",
      "[8000 rows x 2 columns]\n"
     ]
    }
   ],
   "source": [
    "import pandas as pd\n",
    "import json\n",
    "\n",
    "\n",
    "with open('training.json') as f:\n",
    "   data = json.load(f)\n",
    "\n",
    "df = pd.DataFrame(data)\n",
    "\n",
    "# Print DataFrame\n",
    "print(df)"
   ]
  },
  {
   "cell_type": "code",
   "execution_count": 10,
   "id": "00d08265",
   "metadata": {},
   "outputs": [
    {
     "name": "stdout",
     "output_type": "stream",
     "text": [
      "                                                  text  stars\n",
      "0    I USED to brag about Urban Beans to everyone I...    1.0\n",
      "1    I really liked my first experience here. Unfor...    1.0\n",
      "2    Literally shit. Do yourself a favor and go to ...    1.0\n",
      "3    This place was terrible. Healthy is great, but...    1.0\n",
      "4    Came a Saturday morning, wasn't busy.  Tables ...    1.0\n",
      "..                                                 ...    ...\n",
      "795  This store has everything! Typically I go in f...    3.0\n",
      "796  The sandwiches are fantastic unfortunately the...    3.0\n",
      "797  a recent weekend dinner found the place almost...    3.0\n",
      "798  I'm not from the area but this is obviously a ...    3.0\n",
      "799  Pojangmacha Restaurant should be renamed to Po...    3.0\n",
      "\n",
      "[800 rows x 2 columns]\n"
     ]
    }
   ],
   "source": [
    "import pandas as pd\n",
    "import json\n",
    "\n",
    "\n",
    "with open('validation.json') as f:\n",
    "   data = json.load(f)\n",
    "\n",
    "df = pd.DataFrame(data)\n",
    "\n",
    "# Print DataFrame\n",
    "print(df)"
   ]
  },
  {
   "cell_type": "code",
   "execution_count": 13,
   "id": "7358c2e7",
   "metadata": {},
   "outputs": [
    {
     "data": {
      "text/html": [
       "<div>\n",
       "<style scoped>\n",
       "    .dataframe tbody tr th:only-of-type {\n",
       "        vertical-align: middle;\n",
       "    }\n",
       "\n",
       "    .dataframe tbody tr th {\n",
       "        vertical-align: top;\n",
       "    }\n",
       "\n",
       "    .dataframe thead th {\n",
       "        text-align: right;\n",
       "    }\n",
       "</style>\n",
       "<table border=\"1\" class=\"dataframe\">\n",
       "  <thead>\n",
       "    <tr style=\"text-align: right;\">\n",
       "      <th></th>\n",
       "      <th>Model</th>\n",
       "      <th>Hidden Dimensions</th>\n",
       "      <th>Epochs</th>\n",
       "      <th>Epoch With Optimal Values</th>\n",
       "      <th>Converged Due to overfitting?</th>\n",
       "      <th>Training Accuracy</th>\n",
       "      <th>Validation Accuracy</th>\n",
       "    </tr>\n",
       "  </thead>\n",
       "  <tbody>\n",
       "    <tr>\n",
       "      <th>0</th>\n",
       "      <td>FFNN</td>\n",
       "      <td>75</td>\n",
       "      <td>15</td>\n",
       "      <td>11</td>\n",
       "      <td>No</td>\n",
       "      <td>0.800</td>\n",
       "      <td>0.633</td>\n",
       "    </tr>\n",
       "    <tr>\n",
       "      <th>1</th>\n",
       "      <td>FFNN</td>\n",
       "      <td>50</td>\n",
       "      <td>14</td>\n",
       "      <td>11</td>\n",
       "      <td>No</td>\n",
       "      <td>0.847</td>\n",
       "      <td>0.571</td>\n",
       "    </tr>\n",
       "    <tr>\n",
       "      <th>2</th>\n",
       "      <td>RNN</td>\n",
       "      <td>100</td>\n",
       "      <td>10</td>\n",
       "      <td>2</td>\n",
       "      <td>Yes</td>\n",
       "      <td>0.400</td>\n",
       "      <td>0.400</td>\n",
       "    </tr>\n",
       "    <tr>\n",
       "      <th>3</th>\n",
       "      <td>RNN</td>\n",
       "      <td>25</td>\n",
       "      <td>14</td>\n",
       "      <td>6</td>\n",
       "      <td>Yes</td>\n",
       "      <td>0.454</td>\n",
       "      <td>0.475</td>\n",
       "    </tr>\n",
       "  </tbody>\n",
       "</table>\n",
       "</div>"
      ],
      "text/plain": [
       "  Model  Hidden Dimensions  Epochs  Epoch With Optimal Values  \\\n",
       "0  FFNN                 75      15                         11   \n",
       "1  FFNN                 50      14                         11   \n",
       "2   RNN                100      10                          2   \n",
       "3   RNN                 25      14                          6   \n",
       "\n",
       "  Converged Due to overfitting?  Training Accuracy  Validation Accuracy  \n",
       "0                            No              0.800                0.633  \n",
       "1                            No              0.847                0.571  \n",
       "2                           Yes              0.400                0.400  \n",
       "3                           Yes              0.454                0.475  "
      ]
     },
     "execution_count": 13,
     "metadata": {},
     "output_type": "execute_result"
    }
   ],
   "source": [
    "# initialize list of lists\n",
    "data = [['FFNN',75, 15, 11, \"No\",.800, .633 ], ['FFNN',50, 14, 11, \"No\",.847, .571 ], ['RNN',100, 10, 2, \"Yes\",.400, .400 ], ['RNN',25, 14, 6, \"Yes\",.454, .475 ]]\n",
    " \n",
    "# Create the pandas DataFrame\n",
    "df = pd.DataFrame(data, columns=['Model','Hidden Dimensions', 'Epochs', 'Epoch With Optimal Values', 'Converged Due to overfitting?',  'Training Accuracy', 'Validation Accuracy'])\n",
    " \n",
    "# print dataframe.\n",
    "df"
   ]
  },
  {
   "cell_type": "code",
   "execution_count": null,
   "id": "a6401443",
   "metadata": {},
   "outputs": [],
   "source": []
  }
 ],
 "metadata": {
  "kernelspec": {
   "display_name": "PythonData",
   "language": "python",
   "name": "pythondata"
  },
  "language_info": {
   "codemirror_mode": {
    "name": "ipython",
    "version": 3
   },
   "file_extension": ".py",
   "mimetype": "text/x-python",
   "name": "python",
   "nbconvert_exporter": "python",
   "pygments_lexer": "ipython3",
   "version": "3.9.13"
  }
 },
 "nbformat": 4,
 "nbformat_minor": 5
}
